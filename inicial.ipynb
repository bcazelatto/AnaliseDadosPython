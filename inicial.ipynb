{
 "cells": [
  {
   "cell_type": "markdown",
   "metadata": {},
   "source": [
    "# Python Insights - Analisando Dados com Python\n",
    "\n",
    "### Case - Cancelamento de Clientes\n",
    "\n",
    "Você foi contratado por uma empresa com mais de 800 mil clientes para um projeto de Dados. Recentemente a empresa percebeu que da sua base total de clientes, a maioria são clientes inativos, ou seja, que já cancelaram o serviço.\n",
    "\n",
    "Precisando melhorar seus resultados ela quer conseguir entender os principais motivos desses cancelamentos e quais as ações mais eficientes para reduzir esse número.\n",
    "\n",
    "Base de dados e arquivos: https://drive.google.com/drive/folders/1uDesZePdkhiraJmiyeZ-w5tfc8XsNYFZ?usp=drive_link"
   ]
  },
  {
   "cell_type": "code",
   "execution_count": null,
   "metadata": {},
   "outputs": [],
   "source": [
    "# 1 - Carregar base de dados\n",
    "import pandas as pd\n",
    "\n",
    "tabela = pd.read_csv(\"Dados/cancelamentos.csv\")\n"
   ]
  },
  {
   "cell_type": "code",
   "execution_count": null,
   "metadata": {},
   "outputs": [],
   "source": [
    "# 2 - Remover dados inuteis para analise - Mandamento Analise de Dados: Todo dados que nao ajuda, ele atrapalha\n",
    "tabela = tabela.drop(columns=\"CustomerID\")\n",
    "display(tabela)"
   ]
  },
  {
   "cell_type": "code",
   "execution_count": null,
   "metadata": {},
   "outputs": [],
   "source": [
    "# 3 - Remover campos vazios que atrapalharam analise de dados - Caso tenha campos vazios\n",
    "tabela = tabela.dropna()\n",
    "display(tabela.info())"
   ]
  },
  {
   "cell_type": "code",
   "execution_count": null,
   "metadata": {},
   "outputs": [],
   "source": [
    "# 4 - Analisar os cancelamos\n",
    "display(tabela['cancelou'].value_counts())\n",
    "\n",
    "display(tabela['cancelou'].value_counts(normalize=True)) #Trasnformar me porcentagem"
   ]
  },
  {
   "cell_type": "code",
   "execution_count": null,
   "metadata": {},
   "outputs": [],
   "source": [
    "# 5 - Colocar em graficos para análise - Mandamento de criação graficos: Sempre Cria e depois exite o gráfico\n",
    "import plotly.express as px\n",
    "\n",
    "#Cria o gráfico\n",
    "for coluna in tabela.columns:\n",
    "    grafico = px.histogram(tabela, x=coluna, color='cancelou')\n",
    "    #Mostra o grafico\n",
    "    grafico.show()"
   ]
  },
  {
   "cell_type": "code",
   "execution_count": null,
   "metadata": {},
   "outputs": [],
   "source": [
    "# 6 - Analisando os graficos acima para relatorio\n",
    "\n",
    "    #se um cliente ligar mais de 4 vezes para o callcente, ele cancela\n",
    "\n",
    "    #se o cliente atrasar o pagamento mais de 20 dias, ele cancela\n",
    "\n",
    "    #todos os clientes do contrato mensal cancelam\n",
    "\n",
    "#Vamos gerar um relatorio para verificar como será a parcentagem caso atuamos nesses problemas\n",
    "\n",
    "tabela = tabela[tabela['duracao_contrato'] != 'Monthly'] #sem durcao de contrato mensal\n",
    "tabela = tabela[tabela['ligacoes_callcenter'] <= 4] #sem ligacoes do call center acima de 4\n",
    "tabela = tabela[tabela['dias_atraso'] <= 20] #sem atrado de pagamento mais que 20 dias\n",
    "\n",
    "display(tabela['cancelou'].value_counts(normalize=True))"
   ]
  }
 ],
 "metadata": {
  "kernelspec": {
   "display_name": "base",
   "language": "python",
   "name": "python3"
  },
  "language_info": {
   "codemirror_mode": {
    "name": "ipython",
    "version": 3
   },
   "file_extension": ".py",
   "mimetype": "text/x-python",
   "name": "python",
   "nbconvert_exporter": "python",
   "pygments_lexer": "ipython3",
   "version": "3.12.2"
  },
  "orig_nbformat": 4
 },
 "nbformat": 4,
 "nbformat_minor": 2
}
